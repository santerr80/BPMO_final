{
 "cells": [
  {
   "cell_type": "markdown",
   "metadata": {},
   "source": [
    "## Анализ структуры данных и предобработка"
   ]
  },
  {
   "cell_type": "code",
   "execution_count": 2,
   "metadata": {},
   "outputs": [
    {
     "ename": "ModuleNotFoundError",
     "evalue": "No module named 'matplotlib'",
     "output_type": "error",
     "traceback": [
      "\u001b[1;31m---------------------------------------------------------------------------\u001b[0m",
      "\u001b[1;31mModuleNotFoundError\u001b[0m                       Traceback (most recent call last)",
      "Cell \u001b[1;32mIn[2], line 1\u001b[0m\n\u001b[1;32m----> 1\u001b[0m \u001b[38;5;28;01mimport\u001b[39;00m\u001b[38;5;250m \u001b[39m\u001b[38;5;21;01mmatplotlib\u001b[39;00m\n\u001b[0;32m      2\u001b[0m matplotlib\u001b[38;5;241m.\u001b[39muse(\u001b[38;5;124m'\u001b[39m\u001b[38;5;124mQt5Agg\u001b[39m\u001b[38;5;124m'\u001b[39m)  \u001b[38;5;66;03m# Использование Qt5Agg вместо TkAgg\u001b[39;00m\n\u001b[0;32m      3\u001b[0m \u001b[38;5;28;01mimport\u001b[39;00m\u001b[38;5;250m \u001b[39m\u001b[38;5;21;01mmatplotlib\u001b[39;00m\u001b[38;5;21;01m.\u001b[39;00m\u001b[38;5;21;01mpyplot\u001b[39;00m\u001b[38;5;250m \u001b[39m\u001b[38;5;28;01mas\u001b[39;00m\u001b[38;5;250m \u001b[39m\u001b[38;5;21;01mplt\u001b[39;00m\n",
      "\u001b[1;31mModuleNotFoundError\u001b[0m: No module named 'matplotlib'"
     ]
    }
   ],
   "source": [
    "import matplotlib\n",
    "matplotlib.use('Qt5Agg')  # Использование Qt5Agg вместо TkAgg\n",
    "import matplotlib.pyplot as plt\n",
    "import pandas as pd\n",
    "import seaborn as sns\n"
   ]
  },
  {
   "cell_type": "code",
   "execution_count": 24,
   "metadata": {},
   "outputs": [
    {
     "data": {
      "application/vnd.microsoft.datawrangler.viewer.v0+json": {
       "columns": [
        {
         "name": "index",
         "rawType": "int64",
         "type": "integer"
        },
        {
         "name": "Unnamed: 0",
         "rawType": "int64",
         "type": "integer"
        },
        {
         "name": "user id",
         "rawType": "int64",
         "type": "integer"
        },
        {
         "name": "test group",
         "rawType": "object",
         "type": "string"
        },
        {
         "name": "converted",
         "rawType": "bool",
         "type": "boolean"
        },
        {
         "name": "total ads",
         "rawType": "int64",
         "type": "integer"
        },
        {
         "name": "most ads day",
         "rawType": "object",
         "type": "string"
        },
        {
         "name": "most ads hour",
         "rawType": "int64",
         "type": "integer"
        }
       ],
       "conversionMethod": "pd.DataFrame",
       "ref": "106d30ad-278c-4c4f-9804-a532ce9224e9",
       "rows": [
        [
         "0",
         "0",
         "1069124",
         "ad",
         "False",
         "130",
         "Monday",
         "20"
        ],
        [
         "1",
         "1",
         "1119715",
         "ad",
         "False",
         "93",
         "Tuesday",
         "22"
        ],
        [
         "2",
         "2",
         "1144181",
         "ad",
         "False",
         "21",
         "Tuesday",
         "18"
        ],
        [
         "3",
         "3",
         "1435133",
         "ad",
         "False",
         "355",
         "Tuesday",
         "10"
        ],
        [
         "4",
         "4",
         "1015700",
         "ad",
         "False",
         "276",
         "Friday",
         "14"
        ]
       ],
       "shape": {
        "columns": 7,
        "rows": 5
       }
      },
      "text/html": [
       "<div>\n",
       "<style scoped>\n",
       "    .dataframe tbody tr th:only-of-type {\n",
       "        vertical-align: middle;\n",
       "    }\n",
       "\n",
       "    .dataframe tbody tr th {\n",
       "        vertical-align: top;\n",
       "    }\n",
       "\n",
       "    .dataframe thead th {\n",
       "        text-align: right;\n",
       "    }\n",
       "</style>\n",
       "<table border=\"1\" class=\"dataframe\">\n",
       "  <thead>\n",
       "    <tr style=\"text-align: right;\">\n",
       "      <th></th>\n",
       "      <th>Unnamed: 0</th>\n",
       "      <th>user id</th>\n",
       "      <th>test group</th>\n",
       "      <th>converted</th>\n",
       "      <th>total ads</th>\n",
       "      <th>most ads day</th>\n",
       "      <th>most ads hour</th>\n",
       "    </tr>\n",
       "  </thead>\n",
       "  <tbody>\n",
       "    <tr>\n",
       "      <th>0</th>\n",
       "      <td>0</td>\n",
       "      <td>1069124</td>\n",
       "      <td>ad</td>\n",
       "      <td>False</td>\n",
       "      <td>130</td>\n",
       "      <td>Monday</td>\n",
       "      <td>20</td>\n",
       "    </tr>\n",
       "    <tr>\n",
       "      <th>1</th>\n",
       "      <td>1</td>\n",
       "      <td>1119715</td>\n",
       "      <td>ad</td>\n",
       "      <td>False</td>\n",
       "      <td>93</td>\n",
       "      <td>Tuesday</td>\n",
       "      <td>22</td>\n",
       "    </tr>\n",
       "    <tr>\n",
       "      <th>2</th>\n",
       "      <td>2</td>\n",
       "      <td>1144181</td>\n",
       "      <td>ad</td>\n",
       "      <td>False</td>\n",
       "      <td>21</td>\n",
       "      <td>Tuesday</td>\n",
       "      <td>18</td>\n",
       "    </tr>\n",
       "    <tr>\n",
       "      <th>3</th>\n",
       "      <td>3</td>\n",
       "      <td>1435133</td>\n",
       "      <td>ad</td>\n",
       "      <td>False</td>\n",
       "      <td>355</td>\n",
       "      <td>Tuesday</td>\n",
       "      <td>10</td>\n",
       "    </tr>\n",
       "    <tr>\n",
       "      <th>4</th>\n",
       "      <td>4</td>\n",
       "      <td>1015700</td>\n",
       "      <td>ad</td>\n",
       "      <td>False</td>\n",
       "      <td>276</td>\n",
       "      <td>Friday</td>\n",
       "      <td>14</td>\n",
       "    </tr>\n",
       "  </tbody>\n",
       "</table>\n",
       "</div>"
      ],
      "text/plain": [
       "   Unnamed: 0  user id test group  converted  total ads most ads day  \\\n",
       "0           0  1069124         ad      False        130       Monday   \n",
       "1           1  1119715         ad      False         93      Tuesday   \n",
       "2           2  1144181         ad      False         21      Tuesday   \n",
       "3           3  1435133         ad      False        355      Tuesday   \n",
       "4           4  1015700         ad      False        276       Friday   \n",
       "\n",
       "   most ads hour  \n",
       "0             20  \n",
       "1             22  \n",
       "2             18  \n",
       "3             10  \n",
       "4             14  "
      ]
     },
     "execution_count": 24,
     "metadata": {},
     "output_type": "execute_result"
    }
   ],
   "source": [
    "\n",
    "# Загрузка данных в dataframe\n",
    "data = pd.read_csv('./data/marketing_AB.csv')\n",
    "\n",
    "data.head()"
   ]
  },
  {
   "cell_type": "code",
   "execution_count": null,
   "metadata": {},
   "outputs": [],
   "source": [
    "#  Удаление дубликатов\n",
    "data = data.drop_duplicates(subset=['user id',])\n",
    "\n",
    "# Удаление отсутвующих значений\n",
    "data = data.dropna()"
   ]
  },
  {
   "cell_type": "code",
   "execution_count": 26,
   "metadata": {},
   "outputs": [],
   "source": [
    "#  Замена значений поля 'converted' для дальнейших расчетов\n",
    "replacement_dict = {False: 0, True: 1}\n",
    "data['converted'] = data['converted'].map(replacement_dict )"
   ]
  },
  {
   "cell_type": "code",
   "execution_count": 27,
   "metadata": {},
   "outputs": [],
   "source": [
    "# Замена для удобства\n",
    "replacement_dict = {'ad': 'A', 'psa': 'B'}\n",
    "data['test group'] = data['test group'].map(replacement_dict )"
   ]
  },
  {
   "cell_type": "code",
   "execution_count": 29,
   "metadata": {},
   "outputs": [],
   "source": [
    "daily_data = data.groupby(['most ads day', 'most ads hour', 'test group']).agg({\n",
    "    'user id': 'count',\n",
    "    'converted': 'sum'\n",
    "}).reset_index().rename(columns={'user id': 'users count'})"
   ]
  },
  {
   "cell_type": "code",
   "execution_count": 30,
   "metadata": {},
   "outputs": [
    {
     "data": {
      "application/vnd.microsoft.datawrangler.viewer.v0+json": {
       "columns": [
        {
         "name": "index",
         "rawType": "int64",
         "type": "integer"
        },
        {
         "name": "most ads day",
         "rawType": "object",
         "type": "string"
        },
        {
         "name": "most ads hour",
         "rawType": "int64",
         "type": "integer"
        },
        {
         "name": "test group",
         "rawType": "object",
         "type": "string"
        },
        {
         "name": "users count",
         "rawType": "int64",
         "type": "integer"
        },
        {
         "name": "converted",
         "rawType": "int64",
         "type": "integer"
        }
       ],
       "conversionMethod": "pd.DataFrame",
       "ref": "ce41e364-ef40-4a18-b787-3cbe3fb7daab",
       "rows": [
        [
         "0",
         "Friday",
         "0",
         "A",
         "807",
         "16"
        ],
        [
         "1",
         "Friday",
         "0",
         "B",
         "34",
         "0"
        ],
        [
         "2",
         "Friday",
         "1",
         "A",
         "662",
         "7"
        ],
        [
         "3",
         "Friday",
         "1",
         "B",
         "29",
         "0"
        ],
        [
         "4",
         "Friday",
         "2",
         "A",
         "825",
         "10"
        ],
        [
         "5",
         "Friday",
         "2",
         "B",
         "25",
         "0"
        ],
        [
         "6",
         "Friday",
         "3",
         "A",
         "515",
         "2"
        ],
        [
         "7",
         "Friday",
         "3",
         "B",
         "27",
         "0"
        ],
        [
         "8",
         "Friday",
         "4",
         "A",
         "118",
         "2"
        ],
        [
         "9",
         "Friday",
         "4",
         "B",
         "4",
         "0"
        ],
        [
         "10",
         "Friday",
         "5",
         "A",
         "129",
         "2"
        ],
        [
         "11",
         "Friday",
         "5",
         "B",
         "6",
         "0"
        ],
        [
         "12",
         "Friday",
         "6",
         "A",
         "330",
         "4"
        ],
        [
         "13",
         "Friday",
         "6",
         "B",
         "13",
         "0"
        ],
        [
         "14",
         "Friday",
         "7",
         "A",
         "1018",
         "19"
        ],
        [
         "15",
         "Friday",
         "7",
         "B",
         "54",
         "1"
        ],
        [
         "16",
         "Friday",
         "8",
         "A",
         "2358",
         "39"
        ],
        [
         "17",
         "Friday",
         "8",
         "B",
         "110",
         "1"
        ],
        [
         "18",
         "Friday",
         "9",
         "A",
         "4282",
         "86"
        ],
        [
         "19",
         "Friday",
         "9",
         "B",
         "200",
         "2"
        ],
        [
         "20",
         "Friday",
         "10",
         "A",
         "5353",
         "124"
        ],
        [
         "21",
         "Friday",
         "10",
         "B",
         "223",
         "5"
        ],
        [
         "22",
         "Friday",
         "11",
         "A",
         "6927",
         "124"
        ],
        [
         "23",
         "Friday",
         "11",
         "B",
         "356",
         "5"
        ],
        [
         "24",
         "Friday",
         "12",
         "A",
         "6949",
         "136"
        ],
        [
         "25",
         "Friday",
         "12",
         "B",
         "370",
         "5"
        ],
        [
         "26",
         "Friday",
         "13",
         "A",
         "7166",
         "166"
        ],
        [
         "27",
         "Friday",
         "13",
         "B",
         "328",
         "3"
        ],
        [
         "28",
         "Friday",
         "14",
         "A",
         "6622",
         "163"
        ],
        [
         "29",
         "Friday",
         "14",
         "B",
         "310",
         "1"
        ],
        [
         "30",
         "Friday",
         "15",
         "A",
         "6650",
         "176"
        ],
        [
         "31",
         "Friday",
         "15",
         "B",
         "285",
         "6"
        ],
        [
         "32",
         "Friday",
         "16",
         "A",
         "5523",
         "153"
        ],
        [
         "33",
         "Friday",
         "16",
         "B",
         "278",
         "3"
        ],
        [
         "34",
         "Friday",
         "17",
         "A",
         "5027",
         "108"
        ],
        [
         "35",
         "Friday",
         "17",
         "B",
         "205",
         "5"
        ],
        [
         "36",
         "Friday",
         "18",
         "A",
         "4839",
         "116"
        ],
        [
         "37",
         "Friday",
         "18",
         "B",
         "203",
         "6"
        ],
        [
         "38",
         "Friday",
         "19",
         "A",
         "4593",
         "95"
        ],
        [
         "39",
         "Friday",
         "19",
         "B",
         "180",
         "7"
        ],
        [
         "40",
         "Friday",
         "20",
         "A",
         "4465",
         "135"
        ],
        [
         "41",
         "Friday",
         "20",
         "B",
         "133",
         "2"
        ],
        [
         "42",
         "Friday",
         "21",
         "A",
         "4933",
         "144"
        ],
        [
         "43",
         "Friday",
         "21",
         "B",
         "196",
         "7"
        ],
        [
         "44",
         "Friday",
         "22",
         "A",
         "4737",
         "100"
        ],
        [
         "45",
         "Friday",
         "22",
         "B",
         "135",
         "0"
        ],
        [
         "46",
         "Friday",
         "23",
         "A",
         "3977",
         "68"
        ],
        [
         "47",
         "Friday",
         "23",
         "B",
         "99",
         "3"
        ],
        [
         "48",
         "Monday",
         "0",
         "A",
         "820",
         "14"
        ],
        [
         "49",
         "Monday",
         "0",
         "B",
         "42",
         "0"
        ]
       ],
       "shape": {
        "columns": 5,
        "rows": 335
       }
      },
      "text/html": [
       "<div>\n",
       "<style scoped>\n",
       "    .dataframe tbody tr th:only-of-type {\n",
       "        vertical-align: middle;\n",
       "    }\n",
       "\n",
       "    .dataframe tbody tr th {\n",
       "        vertical-align: top;\n",
       "    }\n",
       "\n",
       "    .dataframe thead th {\n",
       "        text-align: right;\n",
       "    }\n",
       "</style>\n",
       "<table border=\"1\" class=\"dataframe\">\n",
       "  <thead>\n",
       "    <tr style=\"text-align: right;\">\n",
       "      <th></th>\n",
       "      <th>most ads day</th>\n",
       "      <th>most ads hour</th>\n",
       "      <th>test group</th>\n",
       "      <th>users count</th>\n",
       "      <th>converted</th>\n",
       "    </tr>\n",
       "  </thead>\n",
       "  <tbody>\n",
       "    <tr>\n",
       "      <th>0</th>\n",
       "      <td>Friday</td>\n",
       "      <td>0</td>\n",
       "      <td>A</td>\n",
       "      <td>807</td>\n",
       "      <td>16</td>\n",
       "    </tr>\n",
       "    <tr>\n",
       "      <th>1</th>\n",
       "      <td>Friday</td>\n",
       "      <td>0</td>\n",
       "      <td>B</td>\n",
       "      <td>34</td>\n",
       "      <td>0</td>\n",
       "    </tr>\n",
       "    <tr>\n",
       "      <th>2</th>\n",
       "      <td>Friday</td>\n",
       "      <td>1</td>\n",
       "      <td>A</td>\n",
       "      <td>662</td>\n",
       "      <td>7</td>\n",
       "    </tr>\n",
       "    <tr>\n",
       "      <th>3</th>\n",
       "      <td>Friday</td>\n",
       "      <td>1</td>\n",
       "      <td>B</td>\n",
       "      <td>29</td>\n",
       "      <td>0</td>\n",
       "    </tr>\n",
       "    <tr>\n",
       "      <th>4</th>\n",
       "      <td>Friday</td>\n",
       "      <td>2</td>\n",
       "      <td>A</td>\n",
       "      <td>825</td>\n",
       "      <td>10</td>\n",
       "    </tr>\n",
       "    <tr>\n",
       "      <th>...</th>\n",
       "      <td>...</td>\n",
       "      <td>...</td>\n",
       "      <td>...</td>\n",
       "      <td>...</td>\n",
       "      <td>...</td>\n",
       "    </tr>\n",
       "    <tr>\n",
       "      <th>330</th>\n",
       "      <td>Wednesday</td>\n",
       "      <td>21</td>\n",
       "      <td>B</td>\n",
       "      <td>153</td>\n",
       "      <td>2</td>\n",
       "    </tr>\n",
       "    <tr>\n",
       "      <th>331</th>\n",
       "      <td>Wednesday</td>\n",
       "      <td>22</td>\n",
       "      <td>A</td>\n",
       "      <td>3277</td>\n",
       "      <td>83</td>\n",
       "    </tr>\n",
       "    <tr>\n",
       "      <th>332</th>\n",
       "      <td>Wednesday</td>\n",
       "      <td>22</td>\n",
       "      <td>B</td>\n",
       "      <td>157</td>\n",
       "      <td>3</td>\n",
       "    </tr>\n",
       "    <tr>\n",
       "      <th>333</th>\n",
       "      <td>Wednesday</td>\n",
       "      <td>23</td>\n",
       "      <td>A</td>\n",
       "      <td>2884</td>\n",
       "      <td>64</td>\n",
       "    </tr>\n",
       "    <tr>\n",
       "      <th>334</th>\n",
       "      <td>Wednesday</td>\n",
       "      <td>23</td>\n",
       "      <td>B</td>\n",
       "      <td>91</td>\n",
       "      <td>0</td>\n",
       "    </tr>\n",
       "  </tbody>\n",
       "</table>\n",
       "<p>335 rows × 5 columns</p>\n",
       "</div>"
      ],
      "text/plain": [
       "    most ads day  most ads hour test group  users count  converted\n",
       "0         Friday              0          A          807         16\n",
       "1         Friday              0          B           34          0\n",
       "2         Friday              1          A          662          7\n",
       "3         Friday              1          B           29          0\n",
       "4         Friday              2          A          825         10\n",
       "..           ...            ...        ...          ...        ...\n",
       "330    Wednesday             21          B          153          2\n",
       "331    Wednesday             22          A         3277         83\n",
       "332    Wednesday             22          B          157          3\n",
       "333    Wednesday             23          A         2884         64\n",
       "334    Wednesday             23          B           91          0\n",
       "\n",
       "[335 rows x 5 columns]"
      ]
     },
     "execution_count": 30,
     "metadata": {},
     "output_type": "execute_result"
    }
   ],
   "source": [
    "daily_data"
   ]
  },
  {
   "cell_type": "code",
   "execution_count": 37,
   "metadata": {},
   "outputs": [
    {
     "data": {
      "application/vnd.microsoft.datawrangler.viewer.v0+json": {
       "columns": [
        {
         "name": "index",
         "rawType": "int64",
         "type": "integer"
        },
        {
         "name": "most ads day",
         "rawType": "object",
         "type": "string"
        },
        {
         "name": "most ads hour",
         "rawType": "int64",
         "type": "integer"
        },
        {
         "name": "test group",
         "rawType": "object",
         "type": "string"
        },
        {
         "name": "users count",
         "rawType": "int64",
         "type": "integer"
        },
        {
         "name": "converted",
         "rawType": "int64",
         "type": "integer"
        },
        {
         "name": "conversion",
         "rawType": "float64",
         "type": "float"
        }
       ],
       "conversionMethod": "pd.DataFrame",
       "ref": "3c7109cd-49ad-400d-92ed-d2337b1eb54e",
       "rows": [
        [
         "0",
         "Friday",
         "0",
         "A",
         "807",
         "16",
         "1.982651796778191"
        ],
        [
         "1",
         "Friday",
         "0",
         "B",
         "34",
         "0",
         "0.0"
        ],
        [
         "2",
         "Friday",
         "1",
         "A",
         "662",
         "7",
         "1.0574018126888218"
        ],
        [
         "3",
         "Friday",
         "1",
         "B",
         "29",
         "0",
         "0.0"
        ],
        [
         "4",
         "Friday",
         "2",
         "A",
         "825",
         "10",
         "1.2121212121212122"
        ],
        [
         "5",
         "Friday",
         "2",
         "B",
         "25",
         "0",
         "0.0"
        ],
        [
         "6",
         "Friday",
         "3",
         "A",
         "515",
         "2",
         "0.3883495145631068"
        ],
        [
         "7",
         "Friday",
         "3",
         "B",
         "27",
         "0",
         "0.0"
        ],
        [
         "8",
         "Friday",
         "4",
         "A",
         "118",
         "2",
         "1.694915254237288"
        ],
        [
         "9",
         "Friday",
         "4",
         "B",
         "4",
         "0",
         "0.0"
        ],
        [
         "10",
         "Friday",
         "5",
         "A",
         "129",
         "2",
         "1.550387596899225"
        ],
        [
         "11",
         "Friday",
         "5",
         "B",
         "6",
         "0",
         "0.0"
        ],
        [
         "12",
         "Friday",
         "6",
         "A",
         "330",
         "4",
         "1.2121212121212122"
        ],
        [
         "13",
         "Friday",
         "6",
         "B",
         "13",
         "0",
         "0.0"
        ],
        [
         "14",
         "Friday",
         "7",
         "A",
         "1018",
         "19",
         "1.8664047151277015"
        ],
        [
         "15",
         "Friday",
         "7",
         "B",
         "54",
         "1",
         "1.8518518518518516"
        ],
        [
         "16",
         "Friday",
         "8",
         "A",
         "2358",
         "39",
         "1.653944020356234"
        ],
        [
         "17",
         "Friday",
         "8",
         "B",
         "110",
         "1",
         "0.9090909090909091"
        ],
        [
         "18",
         "Friday",
         "9",
         "A",
         "4282",
         "86",
         "2.008407286314806"
        ],
        [
         "19",
         "Friday",
         "9",
         "B",
         "200",
         "2",
         "1.0"
        ],
        [
         "20",
         "Friday",
         "10",
         "A",
         "5353",
         "124",
         "2.3164580609004295"
        ],
        [
         "21",
         "Friday",
         "10",
         "B",
         "223",
         "5",
         "2.242152466367713"
        ],
        [
         "22",
         "Friday",
         "11",
         "A",
         "6927",
         "124",
         "1.7900967229680957"
        ],
        [
         "23",
         "Friday",
         "11",
         "B",
         "356",
         "5",
         "1.4044943820224718"
        ],
        [
         "24",
         "Friday",
         "12",
         "A",
         "6949",
         "136",
         "1.9571161318175279"
        ],
        [
         "25",
         "Friday",
         "12",
         "B",
         "370",
         "5",
         "1.3513513513513513"
        ],
        [
         "26",
         "Friday",
         "13",
         "A",
         "7166",
         "166",
         "2.316494557633268"
        ],
        [
         "27",
         "Friday",
         "13",
         "B",
         "328",
         "3",
         "0.9146341463414633"
        ],
        [
         "28",
         "Friday",
         "14",
         "A",
         "6622",
         "163",
         "2.4614919963757176"
        ],
        [
         "29",
         "Friday",
         "14",
         "B",
         "310",
         "1",
         "0.3225806451612903"
        ],
        [
         "30",
         "Friday",
         "15",
         "A",
         "6650",
         "176",
         "2.6466165413533838"
        ],
        [
         "31",
         "Friday",
         "15",
         "B",
         "285",
         "6",
         "2.1052631578947367"
        ],
        [
         "32",
         "Friday",
         "16",
         "A",
         "5523",
         "153",
         "2.7702335687126562"
        ],
        [
         "33",
         "Friday",
         "16",
         "B",
         "278",
         "3",
         "1.079136690647482"
        ],
        [
         "34",
         "Friday",
         "17",
         "A",
         "5027",
         "108",
         "2.1483986473045555"
        ],
        [
         "35",
         "Friday",
         "17",
         "B",
         "205",
         "5",
         "2.4390243902439024"
        ],
        [
         "36",
         "Friday",
         "18",
         "A",
         "4839",
         "116",
         "2.397189501963216"
        ],
        [
         "37",
         "Friday",
         "18",
         "B",
         "203",
         "6",
         "2.955665024630542"
        ],
        [
         "38",
         "Friday",
         "19",
         "A",
         "4593",
         "95",
         "2.0683649031134337"
        ],
        [
         "39",
         "Friday",
         "19",
         "B",
         "180",
         "7",
         "3.888888888888889"
        ],
        [
         "40",
         "Friday",
         "20",
         "A",
         "4465",
         "135",
         "3.0235162374020157"
        ],
        [
         "41",
         "Friday",
         "20",
         "B",
         "133",
         "2",
         "1.5037593984962405"
        ],
        [
         "42",
         "Friday",
         "21",
         "A",
         "4933",
         "144",
         "2.9191161564970605"
        ],
        [
         "43",
         "Friday",
         "21",
         "B",
         "196",
         "7",
         "3.571428571428571"
        ],
        [
         "44",
         "Friday",
         "22",
         "A",
         "4737",
         "100",
         "2.1110407430863414"
        ],
        [
         "45",
         "Friday",
         "22",
         "B",
         "135",
         "0",
         "0.0"
        ],
        [
         "46",
         "Friday",
         "23",
         "A",
         "3977",
         "68",
         "1.7098315313050036"
        ],
        [
         "47",
         "Friday",
         "23",
         "B",
         "99",
         "3",
         "3.0303030303030303"
        ],
        [
         "48",
         "Monday",
         "0",
         "A",
         "820",
         "14",
         "1.707317073170732"
        ],
        [
         "49",
         "Monday",
         "0",
         "B",
         "42",
         "0",
         "0.0"
        ]
       ],
       "shape": {
        "columns": 6,
        "rows": 335
       }
      },
      "text/html": [
       "<div>\n",
       "<style scoped>\n",
       "    .dataframe tbody tr th:only-of-type {\n",
       "        vertical-align: middle;\n",
       "    }\n",
       "\n",
       "    .dataframe tbody tr th {\n",
       "        vertical-align: top;\n",
       "    }\n",
       "\n",
       "    .dataframe thead th {\n",
       "        text-align: right;\n",
       "    }\n",
       "</style>\n",
       "<table border=\"1\" class=\"dataframe\">\n",
       "  <thead>\n",
       "    <tr style=\"text-align: right;\">\n",
       "      <th></th>\n",
       "      <th>most ads day</th>\n",
       "      <th>most ads hour</th>\n",
       "      <th>test group</th>\n",
       "      <th>users count</th>\n",
       "      <th>converted</th>\n",
       "      <th>conversion</th>\n",
       "    </tr>\n",
       "  </thead>\n",
       "  <tbody>\n",
       "    <tr>\n",
       "      <th>0</th>\n",
       "      <td>Friday</td>\n",
       "      <td>0</td>\n",
       "      <td>A</td>\n",
       "      <td>807</td>\n",
       "      <td>16</td>\n",
       "      <td>1.982652</td>\n",
       "    </tr>\n",
       "    <tr>\n",
       "      <th>1</th>\n",
       "      <td>Friday</td>\n",
       "      <td>0</td>\n",
       "      <td>B</td>\n",
       "      <td>34</td>\n",
       "      <td>0</td>\n",
       "      <td>0.000000</td>\n",
       "    </tr>\n",
       "    <tr>\n",
       "      <th>2</th>\n",
       "      <td>Friday</td>\n",
       "      <td>1</td>\n",
       "      <td>A</td>\n",
       "      <td>662</td>\n",
       "      <td>7</td>\n",
       "      <td>1.057402</td>\n",
       "    </tr>\n",
       "    <tr>\n",
       "      <th>3</th>\n",
       "      <td>Friday</td>\n",
       "      <td>1</td>\n",
       "      <td>B</td>\n",
       "      <td>29</td>\n",
       "      <td>0</td>\n",
       "      <td>0.000000</td>\n",
       "    </tr>\n",
       "    <tr>\n",
       "      <th>4</th>\n",
       "      <td>Friday</td>\n",
       "      <td>2</td>\n",
       "      <td>A</td>\n",
       "      <td>825</td>\n",
       "      <td>10</td>\n",
       "      <td>1.212121</td>\n",
       "    </tr>\n",
       "    <tr>\n",
       "      <th>...</th>\n",
       "      <td>...</td>\n",
       "      <td>...</td>\n",
       "      <td>...</td>\n",
       "      <td>...</td>\n",
       "      <td>...</td>\n",
       "      <td>...</td>\n",
       "    </tr>\n",
       "    <tr>\n",
       "      <th>330</th>\n",
       "      <td>Wednesday</td>\n",
       "      <td>21</td>\n",
       "      <td>B</td>\n",
       "      <td>153</td>\n",
       "      <td>2</td>\n",
       "      <td>1.307190</td>\n",
       "    </tr>\n",
       "    <tr>\n",
       "      <th>331</th>\n",
       "      <td>Wednesday</td>\n",
       "      <td>22</td>\n",
       "      <td>A</td>\n",
       "      <td>3277</td>\n",
       "      <td>83</td>\n",
       "      <td>2.532804</td>\n",
       "    </tr>\n",
       "    <tr>\n",
       "      <th>332</th>\n",
       "      <td>Wednesday</td>\n",
       "      <td>22</td>\n",
       "      <td>B</td>\n",
       "      <td>157</td>\n",
       "      <td>3</td>\n",
       "      <td>1.910828</td>\n",
       "    </tr>\n",
       "    <tr>\n",
       "      <th>333</th>\n",
       "      <td>Wednesday</td>\n",
       "      <td>23</td>\n",
       "      <td>A</td>\n",
       "      <td>2884</td>\n",
       "      <td>64</td>\n",
       "      <td>2.219140</td>\n",
       "    </tr>\n",
       "    <tr>\n",
       "      <th>334</th>\n",
       "      <td>Wednesday</td>\n",
       "      <td>23</td>\n",
       "      <td>B</td>\n",
       "      <td>91</td>\n",
       "      <td>0</td>\n",
       "      <td>0.000000</td>\n",
       "    </tr>\n",
       "  </tbody>\n",
       "</table>\n",
       "<p>335 rows × 6 columns</p>\n",
       "</div>"
      ],
      "text/plain": [
       "    most ads day  most ads hour test group  users count  converted  conversion\n",
       "0         Friday              0          A          807         16    1.982652\n",
       "1         Friday              0          B           34          0    0.000000\n",
       "2         Friday              1          A          662          7    1.057402\n",
       "3         Friday              1          B           29          0    0.000000\n",
       "4         Friday              2          A          825         10    1.212121\n",
       "..           ...            ...        ...          ...        ...         ...\n",
       "330    Wednesday             21          B          153          2    1.307190\n",
       "331    Wednesday             22          A         3277         83    2.532804\n",
       "332    Wednesday             22          B          157          3    1.910828\n",
       "333    Wednesday             23          A         2884         64    2.219140\n",
       "334    Wednesday             23          B           91          0    0.000000\n",
       "\n",
       "[335 rows x 6 columns]"
      ]
     },
     "execution_count": 37,
     "metadata": {},
     "output_type": "execute_result"
    }
   ],
   "source": [
    "# Вычисление конверсии\n",
    "daily_data['conversion'] = daily_data['converted'] / daily_data['users count'] * 100\n",
    "\n",
    "daily_data"
   ]
  },
  {
   "cell_type": "code",
   "execution_count": null,
   "metadata": {},
   "outputs": [
    {
     "name": "stderr",
     "output_type": "stream",
     "text": [
      "/tmp/ipykernel_16520/1894770937.py:7: FutureWarning: \n",
      "\n",
      "Passing `palette` without assigning `hue` is deprecated and will be removed in v0.14.0. Assign the `y` variable to `hue` and set `legend=False` for the same effect.\n",
      "\n",
      "  sns.boxplot(data=daily_data, x='conversion', y='test group', orient='h', palette='Set2')\n"
     ]
    },
    {
     "data": {
      "image/png": "[encoded data removed]",
      "text/plain": [
       "<Figure size 1000x600 with 1 Axes>"
      ]
     },
     "metadata": {},
     "output_type": "display_data"
    }
   ],
   "source": [
    "%matplotlib inline\n",
    "\n",
    "# График данных конверсии по группам \n",
    "plt.figure(figsize=(10, 6))\n",
    "sns.boxplot(data=daily_data, x='conversion', y='test group', orient='h', palette='Set2')\n",
    "\n",
    "# Настройка графика\n",
    "plt.xlabel('Conversion')\n",
    "plt.ylabel('Group')\n",
    "plt.title('Boxplot of Conversion Rate by Group')\n",
    "\n",
    "# Построить\n",
    "plt.show()"
   ]
  },
  {
   "cell_type": "code",
   "execution_count": null,
   "metadata": {},
   "outputs": [
    {
     "data": {
      "application/vnd.microsoft.datawrangler.viewer.v0+json": {
       "columns": [
        {
         "name": "test group",
         "rawType": "object",
         "type": "string"
        },
        {
         "name": "mean",
         "rawType": "float64",
         "type": "float"
        },
        {
         "name": "median",
         "rawType": "float64",
         "type": "float"
        }
       ],
       "conversionMethod": "pd.DataFrame",
       "ref": "434c2127-72d9-40c4-ac49-e8531148dca1",
       "rows": [
        [
         "A",
         "2.284667393948973",
         "2.208446713554146"
        ],
        [
         "B",
         "1.328739091306377",
         "1.098901098901099"
        ]
       ],
       "shape": {
        "columns": 2,
        "rows": 2
       }
      },
      "text/html": [
       "<div>\n",
       "<style scoped>\n",
       "    .dataframe tbody tr th:only-of-type {\n",
       "        vertical-align: middle;\n",
       "    }\n",
       "\n",
       "    .dataframe tbody tr th {\n",
       "        vertical-align: top;\n",
       "    }\n",
       "\n",
       "    .dataframe thead th {\n",
       "        text-align: right;\n",
       "    }\n",
       "</style>\n",
       "<table border=\"1\" class=\"dataframe\">\n",
       "  <thead>\n",
       "    <tr style=\"text-align: right;\">\n",
       "      <th></th>\n",
       "      <th>mean</th>\n",
       "      <th>median</th>\n",
       "    </tr>\n",
       "    <tr>\n",
       "      <th>test group</th>\n",
       "      <th></th>\n",
       "      <th></th>\n",
       "    </tr>\n",
       "  </thead>\n",
       "  <tbody>\n",
       "    <tr>\n",
       "      <th>A</th>\n",
       "      <td>2.284667</td>\n",
       "      <td>2.208447</td>\n",
       "    </tr>\n",
       "    <tr>\n",
       "      <th>B</th>\n",
       "      <td>1.328739</td>\n",
       "      <td>1.098901</td>\n",
       "    </tr>\n",
       "  </tbody>\n",
       "</table>\n",
       "</div>"
      ],
      "text/plain": [
       "                mean    median\n",
       "test group                    \n",
       "A           2.284667  2.208447\n",
       "B           1.328739  1.098901"
      ]
     },
     "metadata": {},
     "output_type": "display_data"
    }
   ],
   "source": [
    "\n",
    "conversion_piv = daily_data.groupby('test group')['conversion'].agg(\n",
    "    ['mean', 'median']\n",
    ")\n",
    "display(conversion_piv)"
   ]
  },
  {
   "cell_type": "code",
   "execution_count": 41,
   "metadata": {},
   "outputs": [
    {
     "data": {
      "text/plain": [
       "Text(0.5, 1.0, 'График конверсии по дням')"
      ]
     },
     "execution_count": 41,
     "metadata": {},
     "output_type": "execute_result"
    },
    {
     "data": {
      "image/png": "[encoded data removed]",
      "text/plain": [
       "<Figure size 800x400 with 1 Axes>"
      ]
     },
     "metadata": {},
     "output_type": "display_data"
    }
   ],
   "source": [
    "# График конверсии по дням недели\n",
    "plt.figure(figsize=(8, 4))\n",
    "sns.lineplot(\n",
    "    data=daily_data,\n",
    "    x='most ads day',\n",
    "    y='conversion',\n",
    "    hue='test group')\n",
    "\n",
    "# Adding labels and title\n",
    "plt.xlabel('Conversion')\n",
    "plt.ylabel('Date')\n",
    "plt.title('График конверсии по дням')\n"
   ]
  }
 ],
 "metadata": {
  "kernelspec": {
   "display_name": ".venv",
   "language": "python",
   "name": "python3"
  },
  "language_info": {
   "codemirror_mode": {
    "name": "ipython",
    "version": 3
   },
   "file_extension": ".py",
   "mimetype": "text/x-python",
   "name": "python",
   "nbconvert_exporter": "python",
   "pygments_lexer": "ipython3",
   "version": "3.10.11"
  }
 },
 "nbformat": 4,
 "nbformat_minor": 2
}
