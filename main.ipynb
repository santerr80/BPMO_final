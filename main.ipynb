{
 "cells": [
  {
   "cell_type": "markdown",
   "metadata": {},
   "source": [
    "# Финальное задание"
   ]
  },
  {
   "cell_type": "markdown",
   "metadata": {},
   "source": [
    "## Анализ структуры данных и предобработка"
   ]
  },
  {
   "cell_type": "code",
   "execution_count": 34,
   "metadata": {},
   "outputs": [],
   "source": [
    "import matplotlib\n",
    "matplotlib.use('Qt5Agg')  # Использование Qt5Agg вместо TkAgg\n",
    "import matplotlib.pyplot as plt\n",
    "import pandas as pd\n",
    "import seaborn as sns\n"
   ]
  },
  {
   "cell_type": "code",
   "execution_count": null,
   "metadata": {},
   "outputs": [
    {
     "data": {
      "application/vnd.microsoft.datawrangler.viewer.v0+json": {
       "columns": [
        {
         "name": "index",
         "rawType": "int64",
         "type": "integer"
        },
        {
         "name": "Unnamed: 0",
         "rawType": "int64",
         "type": "integer"
        },
        {
         "name": "user id",
         "rawType": "int64",
         "type": "integer"
        },
        {
         "name": "test group",
         "rawType": "object",
         "type": "string"
        },
        {
         "name": "converted",
         "rawType": "bool",
         "type": "boolean"
        },
        {
         "name": "total ads",
         "rawType": "int64",
         "type": "integer"
        },
        {
         "name": "most ads day",
         "rawType": "object",
         "type": "string"
        },
        {
         "name": "most ads hour",
         "rawType": "int64",
         "type": "integer"
        }
       ],
       "conversionMethod": "pd.DataFrame",
       "ref": "2e509a53-7041-46af-9d91-1f69ee2d43af",
       "rows": [
        [
         "0",
         "0",
         "1069124",
         "ad",
         "False",
         "130",
         "Monday",
         "20"
        ],
        [
         "1",
         "1",
         "1119715",
         "ad",
         "False",
         "93",
         "Tuesday",
         "22"
        ],
        [
         "2",
         "2",
         "1144181",
         "ad",
         "False",
         "21",
         "Tuesday",
         "18"
        ],
        [
         "3",
         "3",
         "1435133",
         "ad",
         "False",
         "355",
         "Tuesday",
         "10"
        ],
        [
         "4",
         "4",
         "1015700",
         "ad",
         "False",
         "276",
         "Friday",
         "14"
        ]
       ],
       "shape": {
        "columns": 7,
        "rows": 5
       }
      },
      "text/html": [
       "<div>\n",
       "<style scoped>\n",
       "    .dataframe tbody tr th:only-of-type {\n",
       "        vertical-align: middle;\n",
       "    }\n",
       "\n",
       "    .dataframe tbody tr th {\n",
       "        vertical-align: top;\n",
       "    }\n",
       "\n",
       "    .dataframe thead th {\n",
       "        text-align: right;\n",
       "    }\n",
       "</style>\n",
       "<table border=\"1\" class=\"dataframe\">\n",
       "  <thead>\n",
       "    <tr style=\"text-align: right;\">\n",
       "      <th></th>\n",
       "      <th>Unnamed: 0</th>\n",
       "      <th>user id</th>\n",
       "      <th>test group</th>\n",
       "      <th>converted</th>\n",
       "      <th>total ads</th>\n",
       "      <th>most ads day</th>\n",
       "      <th>most ads hour</th>\n",
       "    </tr>\n",
       "  </thead>\n",
       "  <tbody>\n",
       "    <tr>\n",
       "      <th>0</th>\n",
       "      <td>0</td>\n",
       "      <td>1069124</td>\n",
       "      <td>ad</td>\n",
       "      <td>False</td>\n",
       "      <td>130</td>\n",
       "      <td>Monday</td>\n",
       "      <td>20</td>\n",
       "    </tr>\n",
       "    <tr>\n",
       "      <th>1</th>\n",
       "      <td>1</td>\n",
       "      <td>1119715</td>\n",
       "      <td>ad</td>\n",
       "      <td>False</td>\n",
       "      <td>93</td>\n",
       "      <td>Tuesday</td>\n",
       "      <td>22</td>\n",
       "    </tr>\n",
       "    <tr>\n",
       "      <th>2</th>\n",
       "      <td>2</td>\n",
       "      <td>1144181</td>\n",
       "      <td>ad</td>\n",
       "      <td>False</td>\n",
       "      <td>21</td>\n",
       "      <td>Tuesday</td>\n",
       "      <td>18</td>\n",
       "    </tr>\n",
       "    <tr>\n",
       "      <th>3</th>\n",
       "      <td>3</td>\n",
       "      <td>1435133</td>\n",
       "      <td>ad</td>\n",
       "      <td>False</td>\n",
       "      <td>355</td>\n",
       "      <td>Tuesday</td>\n",
       "      <td>10</td>\n",
       "    </tr>\n",
       "    <tr>\n",
       "      <th>4</th>\n",
       "      <td>4</td>\n",
       "      <td>1015700</td>\n",
       "      <td>ad</td>\n",
       "      <td>False</td>\n",
       "      <td>276</td>\n",
       "      <td>Friday</td>\n",
       "      <td>14</td>\n",
       "    </tr>\n",
       "  </tbody>\n",
       "</table>\n",
       "</div>"
      ],
      "text/plain": [
       "   Unnamed: 0  user id test group  converted  total ads most ads day  \\\n",
       "0           0  1069124         ad      False        130       Monday   \n",
       "1           1  1119715         ad      False         93      Tuesday   \n",
       "2           2  1144181         ad      False         21      Tuesday   \n",
       "3           3  1435133         ad      False        355      Tuesday   \n",
       "4           4  1015700         ad      False        276       Friday   \n",
       "\n",
       "   most ads hour  \n",
       "0             20  \n",
       "1             22  \n",
       "2             18  \n",
       "3             10  \n",
       "4             14  "
      ]
     },
     "execution_count": 35,
     "metadata": {},
     "output_type": "execute_result"
    }
   ],
   "source": [
    " \n",
    "# Загрузка данных в dataframe\n",
    "data = pd.read_csv('./data/marketing_AB.csv')\n",
    "\n",
    "data.head()"
   ]
  },
  {
   "cell_type": "code",
   "execution_count": 36,
   "metadata": {},
   "outputs": [],
   "source": [
    "#  Удаление дубликатов\n",
    "data = data.drop_duplicates(subset=['user id',])\n",
    "\n",
    "# Удаление отсутвующих значений\n",
    "data = data.dropna()"
   ]
  },
  {
   "cell_type": "code",
   "execution_count": 37,
   "metadata": {},
   "outputs": [],
   "source": [
    "#  Замена значений поля 'converted' для дальнейших расчетов\n",
    "replacement_dict = {False: 0, True: 1}\n",
    "data['converted'] = data['converted'].map(replacement_dict )"
   ]
  },
  {
   "cell_type": "code",
   "execution_count": 38,
   "metadata": {},
   "outputs": [],
   "source": [
    "# Замена для удобства\n",
    "replacement_dict = {'ad': 'A', 'psa': 'B'}\n",
    "data['test group'] = data['test group'].map(replacement_dict )"
   ]
  },
  {
   "cell_type": "markdown",
   "metadata": {},
   "source": [
    "## Первичный анализ результатов A/B-тестирования"
   ]
  },
  {
   "cell_type": "markdown",
   "metadata": {},
   "source": [
    "\n",
    "### Рассчет вспомогательных показателей для контрольной и тестовой групп"
   ]
  },
  {
   "cell_type": "code",
   "execution_count": 39,
   "metadata": {},
   "outputs": [
    {
     "data": {
      "application/vnd.microsoft.datawrangler.viewer.v0+json": {
       "columns": [
        {
         "name": "index",
         "rawType": "int64",
         "type": "integer"
        },
        {
         "name": "test group",
         "rawType": "object",
         "type": "string"
        },
        {
         "name": "total ads",
         "rawType": "int64",
         "type": "integer"
        },
        {
         "name": "total converted",
         "rawType": "int64",
         "type": "integer"
        }
       ],
       "conversionMethod": "pd.DataFrame",
       "ref": "5f1ae295-6489-45fb-aa61-ab01ea1f64eb",
       "rows": [
        [
         "0",
         "A",
         "14014701",
         "14423"
        ],
        [
         "1",
         "B",
         "582481",
         "420"
        ]
       ],
       "shape": {
        "columns": 3,
        "rows": 2
       }
      },
      "text/html": [
       "<div>\n",
       "<style scoped>\n",
       "    .dataframe tbody tr th:only-of-type {\n",
       "        vertical-align: middle;\n",
       "    }\n",
       "\n",
       "    .dataframe tbody tr th {\n",
       "        vertical-align: top;\n",
       "    }\n",
       "\n",
       "    .dataframe thead th {\n",
       "        text-align: right;\n",
       "    }\n",
       "</style>\n",
       "<table border=\"1\" class=\"dataframe\">\n",
       "  <thead>\n",
       "    <tr style=\"text-align: right;\">\n",
       "      <th></th>\n",
       "      <th>test group</th>\n",
       "      <th>total ads</th>\n",
       "      <th>total converted</th>\n",
       "    </tr>\n",
       "  </thead>\n",
       "  <tbody>\n",
       "    <tr>\n",
       "      <th>0</th>\n",
       "      <td>A</td>\n",
       "      <td>14014701</td>\n",
       "      <td>14423</td>\n",
       "    </tr>\n",
       "    <tr>\n",
       "      <th>1</th>\n",
       "      <td>B</td>\n",
       "      <td>582481</td>\n",
       "      <td>420</td>\n",
       "    </tr>\n",
       "  </tbody>\n",
       "</table>\n",
       "</div>"
      ],
      "text/plain": [
       "  test group  total ads  total converted\n",
       "0          A   14014701            14423\n",
       "1          B     582481              420"
      ]
     },
     "execution_count": 39,
     "metadata": {},
     "output_type": "execute_result"
    }
   ],
   "source": [
    "data_aux = data.groupby('test group').agg({\n",
    "    'total ads': 'sum',\n",
    "    'converted': 'sum'\n",
    "}).reset_index().rename(columns={'converted': 'total converted'})\n",
    "\n",
    "data_aux\n"
   ]
  },
  {
   "cell_type": "markdown",
   "metadata": {},
   "source": [
    "Выводы: \n",
    "На основании сравнения показателей тестовой и контрольной групп можно сделать вывод что выборки групп не равнозначны и не сбалансированы."
   ]
  },
  {
   "cell_type": "markdown",
   "metadata": {},
   "source": [
    "### Расчет вспомогательных показателей"
   ]
  },
  {
   "cell_type": "code",
   "execution_count": 40,
   "metadata": {},
   "outputs": [
    {
     "data": {
      "application/vnd.microsoft.datawrangler.viewer.v0+json": {
       "columns": [
        {
         "name": "index",
         "rawType": "int64",
         "type": "integer"
        },
        {
         "name": "most ads day",
         "rawType": "object",
         "type": "string"
        },
        {
         "name": "most ads hour",
         "rawType": "int64",
         "type": "integer"
        },
        {
         "name": "test group",
         "rawType": "object",
         "type": "string"
        },
        {
         "name": "users count",
         "rawType": "int64",
         "type": "integer"
        },
        {
         "name": "converted",
         "rawType": "int64",
         "type": "integer"
        },
        {
         "name": "total ads",
         "rawType": "int64",
         "type": "integer"
        },
        {
         "name": "mean ads",
         "rawType": "float64",
         "type": "float"
        },
        {
         "name": "conversion",
         "rawType": "float64",
         "type": "float"
        },
        {
         "name": "cum_conversion",
         "rawType": "float64",
         "type": "float"
        },
        {
         "name": "cum_users_count",
         "rawType": "int64",
         "type": "integer"
        },
        {
         "name": "cum_converted",
         "rawType": "int64",
         "type": "integer"
        },
        {
         "name": "cum_mean_ads",
         "rawType": "float64",
         "type": "float"
        }
       ],
       "conversionMethod": "pd.DataFrame",
       "ref": "3e02b3ef-3fcb-4286-a5df-5d3b13cd23ec",
       "rows": [
        [
         "0",
         "Friday",
         "0",
         "A",
         "807",
         "16",
         "21636",
         "26.810408921933085",
         "1.982651796778191",
         "1.982651796778191",
         "807",
         "16",
         "26.810408921933085"
        ],
        [
         "1",
         "Friday",
         "0",
         "B",
         "34",
         "0",
         "899",
         "26.441176470588236",
         "0.0",
         "0.0",
         "34",
         "0",
         "26.441176470588236"
        ],
        [
         "2",
         "Friday",
         "1",
         "A",
         "662",
         "7",
         "18753",
         "28.327794561933533",
         "1.0574018126888218",
         "3.0400536094670128",
         "1469",
         "23",
         "55.13820348386662"
        ],
        [
         "3",
         "Friday",
         "1",
         "B",
         "29",
         "0",
         "858",
         "29.586206896551722",
         "0.0",
         "0.0",
         "63",
         "0",
         "56.02738336713996"
        ],
        [
         "4",
         "Friday",
         "2",
         "A",
         "825",
         "10",
         "21495",
         "26.054545454545455",
         "1.2121212121212122",
         "4.252174821588225",
         "2294",
         "33",
         "81.19274893841208"
        ],
        [
         "5",
         "Friday",
         "2",
         "B",
         "25",
         "0",
         "483",
         "19.32",
         "0.0",
         "0.0",
         "88",
         "0",
         "75.34738336713995"
        ],
        [
         "6",
         "Friday",
         "3",
         "A",
         "515",
         "2",
         "11000",
         "21.359223300970875",
         "0.3883495145631068",
         "4.640524336151332",
         "2809",
         "35",
         "102.55197223938295"
        ],
        [
         "7",
         "Friday",
         "3",
         "B",
         "27",
         "0",
         "957",
         "35.44444444444444",
         "0.0",
         "0.0",
         "115",
         "0",
         "110.7918278115844"
        ],
        [
         "8",
         "Friday",
         "4",
         "A",
         "118",
         "2",
         "3466",
         "29.372881355932204",
         "1.694915254237288",
         "6.33543959038862",
         "2927",
         "37",
         "131.92485359531514"
        ],
        [
         "9",
         "Friday",
         "4",
         "B",
         "4",
         "0",
         "162",
         "40.5",
         "0.0",
         "0.0",
         "119",
         "0",
         "151.2918278115844"
        ],
        [
         "10",
         "Friday",
         "5",
         "A",
         "129",
         "2",
         "7744",
         "60.031007751937985",
         "1.550387596899225",
         "7.885827187287845",
         "3056",
         "39",
         "191.95586134725312"
        ],
        [
         "11",
         "Friday",
         "5",
         "B",
         "6",
         "0",
         "160",
         "26.666666666666668",
         "0.0",
         "0.0",
         "125",
         "0",
         "177.95849447825105"
        ],
        [
         "12",
         "Friday",
         "6",
         "A",
         "330",
         "4",
         "14506",
         "43.95757575757576",
         "1.2121212121212122",
         "9.097948399409058",
         "3386",
         "43",
         "235.9134371048289"
        ],
        [
         "13",
         "Friday",
         "6",
         "B",
         "13",
         "0",
         "194",
         "14.923076923076923",
         "0.0",
         "0.0",
         "138",
         "0",
         "192.881571401328"
        ],
        [
         "14",
         "Friday",
         "7",
         "A",
         "1018",
         "19",
         "38102",
         "37.42829076620825",
         "1.8664047151277015",
         "10.964353114536758",
         "4404",
         "62",
         "273.34172787103716"
        ],
        [
         "15",
         "Friday",
         "7",
         "B",
         "54",
         "1",
         "1717",
         "31.796296296296298",
         "1.8518518518518516",
         "1.8518518518518516",
         "192",
         "1",
         "224.6778676976243"
        ],
        [
         "16",
         "Friday",
         "8",
         "A",
         "2358",
         "39",
         "69234",
         "29.361323155216287",
         "1.653944020356234",
         "12.618297134892993",
         "6762",
         "101",
         "302.70305102625343"
        ],
        [
         "17",
         "Friday",
         "8",
         "B",
         "110",
         "1",
         "2736",
         "24.87272727272727",
         "0.9090909090909091",
         "2.760942760942761",
         "302",
         "2",
         "249.55059497035157"
        ],
        [
         "18",
         "Friday",
         "9",
         "A",
         "4282",
         "86",
         "110806",
         "25.877160205511444",
         "2.008407286314806",
         "14.626704421207798",
         "11044",
         "187",
         "328.58021123176485"
        ],
        [
         "19",
         "Friday",
         "9",
         "B",
         "200",
         "2",
         "4820",
         "24.1",
         "1.0",
         "3.760942760942761",
         "502",
         "4",
         "273.65059497035156"
        ],
        [
         "20",
         "Friday",
         "10",
         "A",
         "5353",
         "124",
         "153445",
         "28.6652344479731",
         "2.3164580609004295",
         "16.943162482108228",
         "16397",
         "311",
         "357.245445679738"
        ],
        [
         "21",
         "Friday",
         "10",
         "B",
         "223",
         "5",
         "5696",
         "25.542600896860986",
         "2.242152466367713",
         "6.003095227310474",
         "725",
         "9",
         "299.1931958672125"
        ],
        [
         "22",
         "Friday",
         "11",
         "A",
         "6927",
         "124",
         "183317",
         "26.464125884221165",
         "1.7900967229680957",
         "18.733259205076322",
         "23324",
         "435",
         "383.7095715639591"
        ],
        [
         "23",
         "Friday",
         "11",
         "B",
         "356",
         "5",
         "6814",
         "19.140449438202246",
         "1.4044943820224718",
         "7.407589609332946",
         "1081",
         "14",
         "318.3336453054148"
        ],
        [
         "24",
         "Friday",
         "12",
         "A",
         "6949",
         "136",
         "182715",
         "26.293711325370555",
         "1.9571161318175279",
         "20.69037533689385",
         "30273",
         "571",
         "410.0032828893297"
        ],
        [
         "25",
         "Friday",
         "12",
         "B",
         "370",
         "5",
         "9501",
         "25.67837837837838",
         "1.3513513513513513",
         "8.758940960684297",
         "1451",
         "19",
         "344.0120236837932"
        ],
        [
         "26",
         "Friday",
         "13",
         "A",
         "7166",
         "166",
         "179813",
         "25.092520234440414",
         "2.316494557633268",
         "23.00686989452712",
         "37439",
         "737",
         "435.0958031237701"
        ],
        [
         "27",
         "Friday",
         "13",
         "B",
         "328",
         "3",
         "7019",
         "21.399390243902438",
         "0.9146341463414633",
         "9.67357510702576",
         "1779",
         "22",
         "365.4114139276956"
        ],
        [
         "28",
         "Friday",
         "14",
         "A",
         "6622",
         "163",
         "160753",
         "24.275596496526727",
         "2.4614919963757176",
         "25.468361890902838",
         "44061",
         "900",
         "459.3713996202968"
        ],
        [
         "29",
         "Friday",
         "14",
         "B",
         "310",
         "1",
         "6551",
         "21.13225806451613",
         "0.3225806451612903",
         "9.99615575218705",
         "2089",
         "23",
         "386.5436719922117"
        ],
        [
         "30",
         "Friday",
         "15",
         "A",
         "6650",
         "176",
         "171365",
         "25.76917293233083",
         "2.6466165413533838",
         "28.114978432256223",
         "50711",
         "1076",
         "485.14057255262765"
        ],
        [
         "31",
         "Friday",
         "15",
         "B",
         "285",
         "6",
         "7076",
         "24.828070175438597",
         "2.1052631578947367",
         "12.101418910081787",
         "2374",
         "29",
         "411.3717421676503"
        ],
        [
         "32",
         "Friday",
         "16",
         "A",
         "5523",
         "153",
         "127567",
         "23.09741082744885",
         "2.7702335687126562",
         "30.885212000968878",
         "56234",
         "1229",
         "508.2379833800765"
        ],
        [
         "33",
         "Friday",
         "16",
         "B",
         "278",
         "3",
         "6994",
         "25.158273381294965",
         "1.079136690647482",
         "13.180555600729269",
         "2652",
         "32",
         "436.5300155489453"
        ],
        [
         "34",
         "Friday",
         "17",
         "A",
         "5027",
         "108",
         "125009",
         "24.86751541674955",
         "2.1483986473045555",
         "33.03361064827343",
         "61261",
         "1337",
         "533.105498796826"
        ],
        [
         "35",
         "Friday",
         "17",
         "B",
         "205",
         "5",
         "4367",
         "21.302439024390242",
         "2.4390243902439024",
         "15.619579990973172",
         "2857",
         "37",
         "457.83245457333555"
        ],
        [
         "36",
         "Friday",
         "18",
         "A",
         "4839",
         "116",
         "137878",
         "28.493077082041744",
         "2.397189501963216",
         "35.43080015023665",
         "66100",
         "1453",
         "561.5985758788678"
        ],
        [
         "37",
         "Friday",
         "18",
         "B",
         "203",
         "6",
         "6324",
         "31.15270935960591",
         "2.955665024630542",
         "18.575245015603713",
         "3060",
         "43",
         "488.9851639329415"
        ],
        [
         "38",
         "Friday",
         "19",
         "A",
         "4593",
         "95",
         "131671",
         "28.66775527977357",
         "2.0683649031134337",
         "37.49916505335008",
         "70693",
         "1548",
         "590.2663311586414"
        ],
        [
         "39",
         "Friday",
         "19",
         "B",
         "180",
         "7",
         "5193",
         "28.85",
         "3.888888888888889",
         "22.464133904492602",
         "3240",
         "50",
         "517.8351639329414"
        ],
        [
         "40",
         "Friday",
         "20",
         "A",
         "4465",
         "135",
         "132794",
         "29.741097424412093",
         "3.0235162374020157",
         "40.5226812907521",
         "75158",
         "1683",
         "620.0074285830535"
        ],
        [
         "41",
         "Friday",
         "20",
         "B",
         "133",
         "2",
         "3954",
         "29.729323308270676",
         "1.5037593984962405",
         "23.96789330298884",
         "3373",
         "52",
         "547.5644872412121"
        ],
        [
         "42",
         "Friday",
         "21",
         "A",
         "4933",
         "144",
         "151190",
         "30.64869247922157",
         "2.9191161564970605",
         "43.44179744724916",
         "80091",
         "1827",
         "650.656121062275"
        ],
        [
         "43",
         "Friday",
         "21",
         "B",
         "196",
         "7",
         "6530",
         "33.316326530612244",
         "3.571428571428571",
         "27.539321874417414",
         "3569",
         "59",
         "580.8808137718244"
        ],
        [
         "44",
         "Friday",
         "22",
         "A",
         "4737",
         "100",
         "124212",
         "26.221659278024067",
         "2.1110407430863414",
         "45.5528381903355",
         "84828",
         "1927",
         "676.8777803402991"
        ],
        [
         "45",
         "Friday",
         "22",
         "B",
         "135",
         "0",
         "3820",
         "28.296296296296298",
         "0.0",
         "27.539321874417414",
         "3704",
         "59",
         "609.1771100681207"
        ],
        [
         "46",
         "Friday",
         "23",
         "A",
         "3977",
         "68",
         "91075",
         "22.900427457882827",
         "1.7098315313050036",
         "47.262669721640506",
         "88805",
         "1995",
         "699.7782077981819"
        ],
        [
         "47",
         "Friday",
         "23",
         "B",
         "99",
         "3",
         "2125",
         "21.464646464646464",
         "3.0303030303030303",
         "30.569624904720445",
         "3803",
         "62",
         "630.6417565327671"
        ],
        [
         "48",
         "Monday",
         "0",
         "A",
         "820",
         "14",
         "16022",
         "19.539024390243902",
         "1.707317073170732",
         "48.969986794811234",
         "89625",
         "2009",
         "719.3172321884258"
        ],
        [
         "49",
         "Monday",
         "0",
         "B",
         "42",
         "0",
         "530",
         "12.619047619047619",
         "0.0",
         "30.569624904720445",
         "3845",
         "62",
         "643.2608041518148"
        ]
       ],
       "shape": {
        "columns": 12,
        "rows": 335
       }
      },
      "text/html": [
       "<div>\n",
       "<style scoped>\n",
       "    .dataframe tbody tr th:only-of-type {\n",
       "        vertical-align: middle;\n",
       "    }\n",
       "\n",
       "    .dataframe tbody tr th {\n",
       "        vertical-align: top;\n",
       "    }\n",
       "\n",
       "    .dataframe thead th {\n",
       "        text-align: right;\n",
       "    }\n",
       "</style>\n",
       "<table border=\"1\" class=\"dataframe\">\n",
       "  <thead>\n",
       "    <tr style=\"text-align: right;\">\n",
       "      <th></th>\n",
       "      <th>most ads day</th>\n",
       "      <th>most ads hour</th>\n",
       "      <th>test group</th>\n",
       "      <th>users count</th>\n",
       "      <th>converted</th>\n",
       "      <th>total ads</th>\n",
       "      <th>mean ads</th>\n",
       "      <th>conversion</th>\n",
       "      <th>cum_conversion</th>\n",
       "      <th>cum_users_count</th>\n",
       "      <th>cum_converted</th>\n",
       "      <th>cum_mean_ads</th>\n",
       "    </tr>\n",
       "  </thead>\n",
       "  <tbody>\n",
       "    <tr>\n",
       "      <th>0</th>\n",
       "      <td>Friday</td>\n",
       "      <td>0</td>\n",
       "      <td>A</td>\n",
       "      <td>807</td>\n",
       "      <td>16</td>\n",
       "      <td>21636</td>\n",
       "      <td>26.810409</td>\n",
       "      <td>1.982652</td>\n",
       "      <td>1.982652</td>\n",
       "      <td>807</td>\n",
       "      <td>16</td>\n",
       "      <td>26.810409</td>\n",
       "    </tr>\n",
       "    <tr>\n",
       "      <th>1</th>\n",
       "      <td>Friday</td>\n",
       "      <td>0</td>\n",
       "      <td>B</td>\n",
       "      <td>34</td>\n",
       "      <td>0</td>\n",
       "      <td>899</td>\n",
       "      <td>26.441176</td>\n",
       "      <td>0.000000</td>\n",
       "      <td>0.000000</td>\n",
       "      <td>34</td>\n",
       "      <td>0</td>\n",
       "      <td>26.441176</td>\n",
       "    </tr>\n",
       "    <tr>\n",
       "      <th>2</th>\n",
       "      <td>Friday</td>\n",
       "      <td>1</td>\n",
       "      <td>A</td>\n",
       "      <td>662</td>\n",
       "      <td>7</td>\n",
       "      <td>18753</td>\n",
       "      <td>28.327795</td>\n",
       "      <td>1.057402</td>\n",
       "      <td>3.040054</td>\n",
       "      <td>1469</td>\n",
       "      <td>23</td>\n",
       "      <td>55.138203</td>\n",
       "    </tr>\n",
       "    <tr>\n",
       "      <th>3</th>\n",
       "      <td>Friday</td>\n",
       "      <td>1</td>\n",
       "      <td>B</td>\n",
       "      <td>29</td>\n",
       "      <td>0</td>\n",
       "      <td>858</td>\n",
       "      <td>29.586207</td>\n",
       "      <td>0.000000</td>\n",
       "      <td>0.000000</td>\n",
       "      <td>63</td>\n",
       "      <td>0</td>\n",
       "      <td>56.027383</td>\n",
       "    </tr>\n",
       "    <tr>\n",
       "      <th>4</th>\n",
       "      <td>Friday</td>\n",
       "      <td>2</td>\n",
       "      <td>A</td>\n",
       "      <td>825</td>\n",
       "      <td>10</td>\n",
       "      <td>21495</td>\n",
       "      <td>26.054545</td>\n",
       "      <td>1.212121</td>\n",
       "      <td>4.252175</td>\n",
       "      <td>2294</td>\n",
       "      <td>33</td>\n",
       "      <td>81.192749</td>\n",
       "    </tr>\n",
       "    <tr>\n",
       "      <th>...</th>\n",
       "      <td>...</td>\n",
       "      <td>...</td>\n",
       "      <td>...</td>\n",
       "      <td>...</td>\n",
       "      <td>...</td>\n",
       "      <td>...</td>\n",
       "      <td>...</td>\n",
       "      <td>...</td>\n",
       "      <td>...</td>\n",
       "      <td>...</td>\n",
       "      <td>...</td>\n",
       "      <td>...</td>\n",
       "    </tr>\n",
       "    <tr>\n",
       "      <th>330</th>\n",
       "      <td>Wednesday</td>\n",
       "      <td>21</td>\n",
       "      <td>B</td>\n",
       "      <td>153</td>\n",
       "      <td>2</td>\n",
       "      <td>3955</td>\n",
       "      <td>25.849673</td>\n",
       "      <td>1.307190</td>\n",
       "      <td>219.988600</td>\n",
       "      <td>23276</td>\n",
       "      <td>417</td>\n",
       "      <td>4349.219733</td>\n",
       "    </tr>\n",
       "    <tr>\n",
       "      <th>331</th>\n",
       "      <td>Wednesday</td>\n",
       "      <td>22</td>\n",
       "      <td>A</td>\n",
       "      <td>3277</td>\n",
       "      <td>83</td>\n",
       "      <td>67803</td>\n",
       "      <td>20.690571</td>\n",
       "      <td>2.532804</td>\n",
       "      <td>381.604982</td>\n",
       "      <td>561693</td>\n",
       "      <td>14359</td>\n",
       "      <td>4448.631134</td>\n",
       "    </tr>\n",
       "    <tr>\n",
       "      <th>332</th>\n",
       "      <td>Wednesday</td>\n",
       "      <td>22</td>\n",
       "      <td>B</td>\n",
       "      <td>157</td>\n",
       "      <td>3</td>\n",
       "      <td>3101</td>\n",
       "      <td>19.751592</td>\n",
       "      <td>1.910828</td>\n",
       "      <td>221.899428</td>\n",
       "      <td>23433</td>\n",
       "      <td>420</td>\n",
       "      <td>4368.971325</td>\n",
       "    </tr>\n",
       "    <tr>\n",
       "      <th>333</th>\n",
       "      <td>Wednesday</td>\n",
       "      <td>23</td>\n",
       "      <td>A</td>\n",
       "      <td>2884</td>\n",
       "      <td>64</td>\n",
       "      <td>51423</td>\n",
       "      <td>17.830444</td>\n",
       "      <td>2.219140</td>\n",
       "      <td>383.824122</td>\n",
       "      <td>564577</td>\n",
       "      <td>14423</td>\n",
       "      <td>4466.461578</td>\n",
       "    </tr>\n",
       "    <tr>\n",
       "      <th>334</th>\n",
       "      <td>Wednesday</td>\n",
       "      <td>23</td>\n",
       "      <td>B</td>\n",
       "      <td>91</td>\n",
       "      <td>0</td>\n",
       "      <td>1873</td>\n",
       "      <td>20.582418</td>\n",
       "      <td>0.000000</td>\n",
       "      <td>221.899428</td>\n",
       "      <td>23524</td>\n",
       "      <td>420</td>\n",
       "      <td>4389.553743</td>\n",
       "    </tr>\n",
       "  </tbody>\n",
       "</table>\n",
       "<p>335 rows × 12 columns</p>\n",
       "</div>"
      ],
      "text/plain": [
       "    most ads day  most ads hour test group  users count  converted  total ads  \\\n",
       "0         Friday              0          A          807         16      21636   \n",
       "1         Friday              0          B           34          0        899   \n",
       "2         Friday              1          A          662          7      18753   \n",
       "3         Friday              1          B           29          0        858   \n",
       "4         Friday              2          A          825         10      21495   \n",
       "..           ...            ...        ...          ...        ...        ...   \n",
       "330    Wednesday             21          B          153          2       3955   \n",
       "331    Wednesday             22          A         3277         83      67803   \n",
       "332    Wednesday             22          B          157          3       3101   \n",
       "333    Wednesday             23          A         2884         64      51423   \n",
       "334    Wednesday             23          B           91          0       1873   \n",
       "\n",
       "      mean ads  conversion  cum_conversion  cum_users_count  cum_converted  \\\n",
       "0    26.810409    1.982652        1.982652              807             16   \n",
       "1    26.441176    0.000000        0.000000               34              0   \n",
       "2    28.327795    1.057402        3.040054             1469             23   \n",
       "3    29.586207    0.000000        0.000000               63              0   \n",
       "4    26.054545    1.212121        4.252175             2294             33   \n",
       "..         ...         ...             ...              ...            ...   \n",
       "330  25.849673    1.307190      219.988600            23276            417   \n",
       "331  20.690571    2.532804      381.604982           561693          14359   \n",
       "332  19.751592    1.910828      221.899428            23433            420   \n",
       "333  17.830444    2.219140      383.824122           564577          14423   \n",
       "334  20.582418    0.000000      221.899428            23524            420   \n",
       "\n",
       "     cum_mean_ads  \n",
       "0       26.810409  \n",
       "1       26.441176  \n",
       "2       55.138203  \n",
       "3       56.027383  \n",
       "4       81.192749  \n",
       "..            ...  \n",
       "330   4349.219733  \n",
       "331   4448.631134  \n",
       "332   4368.971325  \n",
       "333   4466.461578  \n",
       "334   4389.553743  \n",
       "\n",
       "[335 rows x 12 columns]"
      ]
     },
     "execution_count": 40,
     "metadata": {},
     "output_type": "execute_result"
    }
   ],
   "source": [
    "\n",
    "# Расчет количества посетителей сайта, суммарное совершение покупок, суммарное количество просмотров рекламы.\n",
    "daily_data = data.groupby(['most ads day', 'most ads hour', 'test group']).agg({\n",
    "    'user id': 'count',\n",
    "    'converted': 'sum',\n",
    "    'total ads': 'sum'\n",
    "}).reset_index().rename(columns={'user id': 'users count'})\n",
    "\n",
    "\n",
    "# Среднее количество простмотров\n",
    "daily_data['mean ads'] = daily_data['total ads'] / daily_data['users count']\n",
    "\n",
    "# Вычисление конверсии - связь покупок с просмотрами рекламы.\n",
    "daily_data['conversion'] = daily_data['converted'] / daily_data['users count'] * 100\n",
    "\n",
    "\n",
    "# кумулятивная конверсия\n",
    "daily_data['cum_conversion'] = daily_data.groupby(['test group'])['conversion'].cumsum()\n",
    "# кумулятивное число пользователей\n",
    "daily_data['cum_users_count'] = daily_data.groupby(['test group'])['users count'].cumsum()\n",
    "# кумулятивное число  покупок\n",
    "daily_data['cum_converted'] = daily_data.groupby(['test group'])['converted'].cumsum()\n",
    "# кумулятивное число средних просмотров рекламы\n",
    "daily_data['cum_mean_ads'] = daily_data.groupby(['test group'])['mean ads'].cumsum()\n",
    "\n",
    "\n",
    "daily_data"
   ]
  },
  {
   "cell_type": "code",
   "execution_count": 41,
   "metadata": {},
   "outputs": [
    {
     "name": "stderr",
     "output_type": "stream",
     "text": [
      "C:\\Users\\Santerr80\\AppData\\Local\\Temp\\ipykernel_26360\\2526152868.py:5: FutureWarning: \n",
      "\n",
      "Passing `palette` without assigning `hue` is deprecated and will be removed in v0.14.0. Assign the `y` variable to `hue` and set `legend=False` for the same effect.\n",
      "\n",
      "  sns.boxplot(data=daily_data, x='conversion', y='test group', orient='h', palette='Set2')\n"
     ]
    },
    {
     "data": {
      "image/png": "[encoded data removed]",
      "text/plain": [
       "<Figure size 1000x600 with 1 Axes>"
      ]
     },
     "metadata": {},
     "output_type": "display_data"
    }
   ],
   "source": [
    "%matplotlib inline\n",
    "\n",
    "# График данных распределения конверсии по группам \n",
    "plt.figure(figsize=(10, 6))\n",
    "sns.boxplot(data=daily_data, x='conversion', y='test group', orient='h', palette='Set2')\n",
    "\n",
    "# Настройка графика\n",
    "plt.xlabel('Conversion')\n",
    "plt.ylabel('Group')\n",
    "plt.title('График разброса коэффициентов конверсии в группах')\n",
    "\n",
    "# Построить\n",
    "plt.show()"
   ]
  },
  {
   "cell_type": "code",
   "execution_count": 42,
   "metadata": {},
   "outputs": [
    {
     "data": {
      "text/plain": [
       "Text(0.5, 1.0, 'График конверсии по дням недели в группах')"
      ]
     },
     "execution_count": 42,
     "metadata": {},
     "output_type": "execute_result"
    },
    {
     "data": {
      "image/png": "[encoded data removed]",
      "text/plain": [
       "<Figure size 800x400 with 1 Axes>"
      ]
     },
     "metadata": {},
     "output_type": "display_data"
    }
   ],
   "source": [
    "# График конверсии по дням недели\n",
    "plt.figure(figsize=(8, 4))\n",
    "sns.lineplot(\n",
    "    data=daily_data,\n",
    "    x='most ads day',\n",
    "    y='conversion',\n",
    "    hue='test group')\n",
    "\n",
    "# Adding labels and title\n",
    "plt.xlabel('Conversion')\n",
    "plt.ylabel('Date')\n",
    "plt.title('График конверсии по дням недели в группах')\n"
   ]
  },
  {
   "cell_type": "markdown",
   "metadata": {},
   "source": [
    "Промежуточные выводы:\n",
    "На первый взгляд, на основании показателя конверсии, нулевая гипотеза (увеличесние показов рекламы увеличивает продажи) подтверждается."
   ]
  },
  {
   "cell_type": "markdown",
   "metadata": {},
   "source": [
    "## Cтатистический анализ результатов A/B-тестирования"
   ]
  },
  {
   "cell_type": "markdown",
   "metadata": {},
   "source": [
    "Нулевая статистическая гипотеза - увеличение просмотра рекламы увеличивает конверсию"
   ]
  },
  {
   "cell_type": "markdown",
   "metadata": {},
   "source": [
    "### Проведение статистических тестов для конверсии"
   ]
  },
  {
   "cell_type": "code",
   "execution_count": 43,
   "metadata": {},
   "outputs": [
    {
     "data": {
      "application/vnd.microsoft.datawrangler.viewer.v0+json": {
       "columns": [
        {
         "name": "test group",
         "rawType": "object",
         "type": "string"
        },
        {
         "name": "sum",
         "rawType": "int64",
         "type": "integer"
        },
        {
         "name": "count",
         "rawType": "int64",
         "type": "integer"
        }
       ],
       "conversionMethod": "pd.DataFrame",
       "ref": "cdc2bb83-8f33-40bb-bc68-7c347f9276be",
       "rows": [
        [
         "A",
         "14014701",
         "14423"
        ],
        [
         "B",
         "582481",
         "420"
        ]
       ],
       "shape": {
        "columns": 2,
        "rows": 2
       }
      },
      "text/html": [
       "<div>\n",
       "<style scoped>\n",
       "    .dataframe tbody tr th:only-of-type {\n",
       "        vertical-align: middle;\n",
       "    }\n",
       "\n",
       "    .dataframe tbody tr th {\n",
       "        vertical-align: top;\n",
       "    }\n",
       "\n",
       "    .dataframe thead th {\n",
       "        text-align: right;\n",
       "    }\n",
       "</style>\n",
       "<table border=\"1\" class=\"dataframe\">\n",
       "  <thead>\n",
       "    <tr style=\"text-align: right;\">\n",
       "      <th></th>\n",
       "      <th>sum</th>\n",
       "      <th>count</th>\n",
       "    </tr>\n",
       "    <tr>\n",
       "      <th>test group</th>\n",
       "      <th></th>\n",
       "      <th></th>\n",
       "    </tr>\n",
       "  </thead>\n",
       "  <tbody>\n",
       "    <tr>\n",
       "      <th>A</th>\n",
       "      <td>14014701</td>\n",
       "      <td>14423</td>\n",
       "    </tr>\n",
       "    <tr>\n",
       "      <th>B</th>\n",
       "      <td>582481</td>\n",
       "      <td>420</td>\n",
       "    </tr>\n",
       "  </tbody>\n",
       "</table>\n",
       "</div>"
      ],
      "text/plain": [
       "                 sum  count\n",
       "test group                 \n",
       "A           14014701  14423\n",
       "B             582481    420"
      ]
     },
     "metadata": {},
     "output_type": "display_data"
    }
   ],
   "source": [
    "from statsmodels.stats.proportion import proportions_ztest\n",
    "\n",
    "converted_piv = daily_data.groupby('test group').agg(\n",
    "    sum=('total ads', 'sum'),\n",
    "    count=('converted', 'sum'))\n",
    "display(converted_piv)"
   ]
  },
  {
   "cell_type": "code",
   "execution_count": 44,
   "metadata": {},
   "outputs": [
    {
     "name": "stdout",
     "output_type": "stream",
     "text": [
      "p-value:  0.0\n",
      "Отвергаем нулевую гипотезу в пользу альтернативной\n"
     ]
    }
   ],
   "source": [
    "\n",
    "alpha = 0.05 # уровень значимости\n",
    "# вычисляем значение p-value для z-теста для пропорций\n",
    "_, p_value = proportions_ztest(\n",
    "    count=converted_piv['count'], #число «успехов»\n",
    "    nobs=converted_piv['sum'], #общее число наблюдений\n",
    "    alternative='two-sided')\n",
    "\n",
    "# выводим результат на экран\n",
    "print('p-value: ', round(p_value, 3))\n",
    "\n",
    "# сравниваем полученное p-value с уровнем значимости\n",
    "if (p_value <= alpha):\n",
    "    print(\"Отвергаем нулевую гипотезу в пользу альтернативной\")\n",
    "else:\n",
    "    print(\"У нас нет оснований отвергнуть нулевую гипотезу\")\n",
    "\n"
   ]
  },
  {
   "cell_type": "code",
   "execution_count": 45,
   "metadata": {},
   "outputs": [
    {
     "name": "stdout",
     "output_type": "stream",
     "text": [
      "p-value:  0.0\n",
      "Отвергаем нулевую гипотезу в пользу альтернативной\n"
     ]
    }
   ],
   "source": [
    "from statsmodels.stats.proportion import proportions_chisquare\n",
    "\n",
    "alpha = 0.05 # уровень значимости\n",
    "# вычисляем значение p-value для Z-теста для пропорций\n",
    "_, p_value, c = proportions_chisquare(\n",
    "    count=converted_piv['count'], #число «успехов»\n",
    "    nobs=converted_piv['sum'] #общее число наблюдений\n",
    ")\n",
    "# выводим результат на экран\n",
    "print('p-value: ', round(p_value, 3))\n",
    "# сравниваем полученное p-value с уровнем значимости\n",
    "if (p_value <= alpha):\n",
    "    print(\"Отвергаем нулевую гипотезу в пользу альтернативной\")\n",
    "else:\n",
    "    print(\"У нас нет оснований отвергнуть нулевую гипотезу\")\n"
   ]
  },
  {
   "cell_type": "markdown",
   "metadata": {},
   "source": [
    "Промежуточный вывод:\n",
    "Согласно z-тесту  и chi^2 r для конверсии есть статистическая разница. Нулевая гипотеза может быть отвергнута."
   ]
  },
  {
   "cell_type": "markdown",
   "metadata": {},
   "source": [
    "### Статистические тесты для средних значений просмотров в группах."
   ]
  },
  {
   "cell_type": "markdown",
   "metadata": {},
   "source": [
    "Тесты для среднего значения просмотра рекламы в группах"
   ]
  },
  {
   "cell_type": "code",
   "execution_count": 46,
   "metadata": {},
   "outputs": [
    {
     "data": {
      "image/png": "[encoded data removed]",
      "text/plain": [
       "<Figure size 1200x400 with 2 Axes>"
      ]
     },
     "metadata": {},
     "output_type": "display_data"
    }
   ],
   "source": [
    "data_a = daily_data[daily_data['test group'] == 'A']\n",
    "data_b = daily_data[daily_data['test group'] == 'B']\n",
    "\n",
    "\n",
    "# создаём два графика размером 12x4\n",
    "fig, axes = plt.subplots(1, 2, figsize=(12, 4))\n",
    "# строим гистограмму для времени на сайте в каждой группе\n",
    "sns.histplot(x='mean ads', data=data_a, ax=axes[0])\n",
    "sns.histplot(x='mean ads', data=data_b, ax=axes[1])\n",
    "# задаём названия графикам\n",
    "axes[0].set_title('Распределение средних показов рекламы сайте в группе А')\n",
    "axes[1].set_title('Распределение средних показов рекламы сайте в группе B')\n",
    "plt.show()"
   ]
  },
  {
   "cell_type": "code",
   "execution_count": 47,
   "metadata": {},
   "outputs": [
    {
     "name": "stdout",
     "output_type": "stream",
     "text": [
      "p-value группы А 0.0\n",
      "p-value группы B 0.0\n",
      "Отвергаем нулевую гипотезу в пользу альтернативной. Распределение в группе А отлично от нормального\n",
      "Отвергаем нулевую гипотезу в пользу альтернативной. Распределение в группе B отлично от нормального\n"
     ]
    }
   ],
   "source": [
    "# Проверка нормальности распределения total ads по методу Шапиро.\n",
    "\n",
    "from scipy.stats import shapiro\n",
    "\n",
    "alpha = 0.05 # уровень значимости\n",
    "# вычисляем результат теста Шапиро — Уилка для выборок\n",
    "shapiro_result_a = shapiro(data_a['mean ads'])\n",
    "shapiro_result_b = shapiro(data_b['mean ads'])\n",
    "print('p-value группы А', round(shapiro_result_a.pvalue, 2))\n",
    "print('p-value группы B', round(shapiro_result_b.pvalue, 2))\n",
    "\n",
    "# сравниваем полученное p-value для группы А с уровнем значимости\n",
    "if shapiro_result_a.pvalue <= alpha:\n",
    "    print(\"Отвергаем нулевую гипотезу в пользу альтернативной. Распределение в группе А отлично от нормального\")\n",
    "else:\n",
    "    print(\"Принимаем нулевую гипотезу. Распределение в группе А является нормальным\")\n",
    "\n",
    "# сравниваем полученное p-value для группы B с уровнем значимости\n",
    "if shapiro_result_b.pvalue <= alpha:\n",
    "    print(\"Отвергаем нулевую гипотезу в пользу альтернативной. Распределение в группе B отлично от нормального\")\n",
    "else:\n",
    "    print(\"Принимаем нулевую гипотезу. Распределение в группе B является нормальным\")\n"
   ]
  },
  {
   "cell_type": "markdown",
   "metadata": {},
   "source": [
    "Так как распределение отличается от нормального, то для оценки средних  просмотров применяем тест Манна — Уитни "
   ]
  },
  {
   "cell_type": "code",
   "execution_count": 48,
   "metadata": {},
   "outputs": [],
   "source": [
    "from scipy.stats import mannwhitneyu"
   ]
  },
  {
   "cell_type": "code",
   "execution_count": 49,
   "metadata": {},
   "outputs": [
    {
     "name": "stdout",
     "output_type": "stream",
     "text": [
      "p-value: 0.62\n",
      "У нас нет оснований отвергнуть нулевую гипотезу\n"
     ]
    }
   ],
   "source": [
    "alpha = 0.05 # уровень значимости\n",
    "\n",
    "# вычисляем результат теста Манна — Уитни для выборок\n",
    "results = mannwhitneyu(\n",
    "    x=data_a['mean ads'],\n",
    "    y=data_b['mean ads'],\n",
    "    alternative='two-sided'\n",
    ")\n",
    "print('p-value:', round(results.pvalue, 2))\n",
    "\n",
    "# сравниваем полученное p-value с уровнем значимости\n",
    "if results.pvalue <= alpha:\n",
    "    print(\"Отвергаем нулевую гипотезу в пользу альтернативной\")\n",
    "else:\n",
    "    print(\"У нас нет оснований отвергнуть нулевую гипотезу\")"
   ]
  },
  {
   "cell_type": "markdown",
   "metadata": {},
   "source": [
    "Согласно тесту Манна — Уитни нулевая гипотеза подтверждается и распределения статистически равны. Распределения для средних значений просмотров рекламы в группах статистически равны. "
   ]
  },
  {
   "cell_type": "markdown",
   "metadata": {},
   "source": [
    "### Построение 95% доверительных интервалов."
   ]
  },
  {
   "cell_type": "code",
   "execution_count": 50,
   "metadata": {},
   "outputs": [],
   "source": [
    "from scipy.stats import norm\n",
    "\n",
    "def proportion_conf_interval(x_p, n, gamma=0.95):  \n",
    "    alpha = 1 - gamma # уровень значимости\n",
    "    z_crit = -norm.ppf(alpha/2) # z-критическое\n",
    "    eps = z_crit * (x_p * (1 - x_p) / n) ** 0.5 # погрешность\n",
    "    lower_bound = x_p - eps # левая (нижняя) граница\n",
    "    upper_bound = x_p + eps # правая (верхняя) граница\n",
    "    # возвращаем кортеж из границ интервала\n",
    "    return lower_bound, upper_bound\n",
    "\n",
    "def diff_proportion_conf_interval(x_p, n, gamma=0.95):\n",
    "    alpha = 1 - gamma # уровень значимости\n",
    "    diff = x_p[1] - x_p[0] # выборочная разница конверсий групп B и A\n",
    "    z_crit = -norm.ppf(alpha/2) #z-критическое\n",
    "    eps = z_crit * (x_p[0] * (1 - x_p[0])/n[0] + x_p[1] * (1 - x_p[1])/n[1]) ** 0.5 # погрешность\n",
    "    lower_bound = diff - eps # левая (нижняя) граница\n",
    "    upper_bound = diff + eps # правая (верхняя) граница\n",
    "    # возвращаем кортеж из  границ интервала\n",
    "    return lower_bound, upper_bound\n"
   ]
  },
  {
   "cell_type": "code",
   "execution_count": 56,
   "metadata": {},
   "outputs": [
    {
     "name": "stdout",
     "output_type": "stream",
     "text": [
      "Доверительный интервал для конверсии в группе А: (np.float64(2.51), np.float64(2.6))\n",
      "Доверительный интервал для конверсии в группе B: (np.float64(1.62), np.float64(1.95))\n"
     ]
    }
   ],
   "source": [
    "# строим доверительный интервал для конверсии в группе А\n",
    "lower_bound_a, upper_bound_a  = proportion_conf_interval(\n",
    "    x_p=data_a['converted'].sum()/data_a['users count'].sum(), # выборочная пропорция\n",
    "    n=data_a['users count'].sum() # размер выборки\n",
    ")\n",
    "\n",
    "# строим доверительный интервал для конверсии в группе B\n",
    "lower_bound_b, upper_bound_b  = proportion_conf_interval(\n",
    "    x_p=data_b['converted'].sum()/data_b['users count'].sum(), # выборочная пропорция\n",
    "    n=data_b['users count'].sum() # размер выборки\n",
    ")\n",
    "\n",
    "# выводим результат\n",
    "print('Доверительный интервал для конверсии в группе А: {}'.format((round(lower_bound_a * 100, 2), round(upper_bound_a * 100, 2))))\n",
    "print('Доверительный интервал для конверсии в группе B: {}'.format((round(lower_bound_b * 100, 2), round(upper_bound_b * 100, 2))))"
   ]
  },
  {
   "cell_type": "code",
   "execution_count": 58,
   "metadata": {},
   "outputs": [
    {
     "name": "stdout",
     "output_type": "stream",
     "text": [
      "Доверительный интервал для разности конверсий: (np.float64(-0.94), np.float64(-0.6))\n"
     ]
    }
   ],
   "source": [
    "\n",
    "# размеры выборок групп А и B\n",
    "n = [data_a['users count'].sum(), data_b['users count'].sum()]\n",
    "\n",
    "# выборочная пропорция групп A и B\n",
    "x_p = [data_a['converted'].sum()/data_a['users count'].sum(), data_b['converted'].sum()/data_b['users count'].sum()]\n",
    "\n",
    "# строим доверительный интервал для разности пропорций\n",
    "lower_bound, upper_bound = diff_proportion_conf_interval(x_p=x_p, n=n)\n",
    "\n",
    "\n",
    "# выводим результат\n",
    "\n",
    "print('Доверительный интервал для разности конверсий: {}'.format((round(lower_bound*100, 2), round(upper_bound*100, 2))))"
   ]
  },
  {
   "cell_type": "markdown",
   "metadata": {},
   "source": [
    "## Выводы"
   ]
  },
  {
   "cell_type": "markdown",
   "metadata": {},
   "source": [
    "1. Согласно тесту Манна — Уитни распределения для средних значений просмотров рекламы в группах статистически равны.  \n",
    "2. Построенные доверительные интервалы не пересекаются, что однозначно подтверждает верность нулеваой гипотезы с точностью в 95%.\n",
    "3. Построенный доверительный интервал разницы пропорций (конверсий) показал, что истинная разница конверсий отрицательна вариант B хуже по метрике конверсии, чем вариант А с заданной надёжностью.\n",
    "\n",
    "На основании проведенного A/B теста нулевая гипотеза подтверждается. \n"
   ]
  }
 ],
 "metadata": {
  "kernelspec": {
   "display_name": ".venv",
   "language": "python",
   "name": "python3"
  },
  "language_info": {
   "codemirror_mode": {
    "name": "ipython",
    "version": 3
   },
   "file_extension": ".py",
   "mimetype": "text/x-python",
   "name": "python",
   "nbconvert_exporter": "python",
   "pygments_lexer": "ipython3",
   "version": "3.10.11"
  }
 },
 "nbformat": 4,
 "nbformat_minor": 2
}
